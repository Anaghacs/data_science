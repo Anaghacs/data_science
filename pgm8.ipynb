{
  "nbformat": 4,
  "nbformat_minor": 0,
  "metadata": {
    "colab": {
      "provenance": [],
      "authorship_tag": "ABX9TyPiwZgoKNQCR8Rlm/V/nzJC",
      "include_colab_link": true
    },
    "kernelspec": {
      "name": "python3",
      "display_name": "Python 3"
    },
    "language_info": {
      "name": "python"
    }
  },
  "cells": [
    {
      "cell_type": "markdown",
      "metadata": {
        "id": "view-in-github",
        "colab_type": "text"
      },
      "source": [
        "<a href=\"https://colab.research.google.com/github/Anaghacs/data_science/blob/main/pgm8.ipynb\" target=\"_parent\"><img src=\"https://colab.research.google.com/assets/colab-badge.svg\" alt=\"Open In Colab\"/></a>"
      ]
    },
    {
      "cell_type": "code",
      "execution_count": null,
      "metadata": {
        "id": "Cwcnd8SVr-Xq"
      },
      "outputs": [],
      "source": [
        "import plotly.express as px\n",
        "df px.data.iris()\n",
        "print(df)\n",
        "fig= px.line(df, x=\"species\", y=\"petal_width\")\n",
        "fig.show()"
      ]
    }
  ]
}